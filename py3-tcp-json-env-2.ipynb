{
 "cells": [
  {
   "cell_type": "code",
   "execution_count": null,
   "metadata": {},
   "outputs": [],
   "source": [
    "# python 3"
   ]
  },
  {
   "cell_type": "code",
   "execution_count": 1,
   "metadata": {},
   "outputs": [],
   "source": [
    "# 创建环境并定义维度参数\n",
    "# create the env. and define its dimension parameters"
   ]
  },
  {
   "cell_type": "code",
   "execution_count": 2,
   "metadata": {},
   "outputs": [],
   "source": [
    "import gym"
   ]
  },
  {
   "cell_type": "code",
   "execution_count": 3,
   "metadata": {},
   "outputs": [],
   "source": [
    "env_name = \"Pendulum-v0\""
   ]
  },
  {
   "cell_type": "code",
   "execution_count": 4,
   "metadata": {},
   "outputs": [
    {
     "name": "stderr",
     "output_type": "stream",
     "text": [
      "[2018-11-14 17:28:14,532] Making new env: Pendulum-v0\n"
     ]
    }
   ],
   "source": [
    "env = gym.make( env_name )"
   ]
  },
  {
   "cell_type": "code",
   "execution_count": 5,
   "metadata": {},
   "outputs": [],
   "source": [
    "env.state_dim = env.observation_space.shape[0]\n",
    "env.action_dim = env.action_space.shape[0]\n",
    "env.DoF = 1"
   ]
  },
  {
   "cell_type": "code",
   "execution_count": 9,
   "metadata": {},
   "outputs": [],
   "source": [
    "# 充当服务器的功能\n",
    "# work as a servicer"
   ]
  },
  {
   "cell_type": "code",
   "execution_count": 6,
   "metadata": {},
   "outputs": [],
   "source": [
    "import numpy as np\n",
    "import socket\n",
    "import threading\n",
    "import json"
   ]
  },
  {
   "cell_type": "code",
   "execution_count": 7,
   "metadata": {},
   "outputs": [],
   "source": [
    "TCP_PORT = 12005"
   ]
  },
  {
   "cell_type": "code",
   "execution_count": 11,
   "metadata": {},
   "outputs": [],
   "source": [
    "def env_servicer(env):\n",
    "    #Create The Socket\n",
    "    s=socket.socket(socket.AF_INET,socket.SOCK_STREAM)\n",
    "\n",
    "    #Listen The Port\n",
    "    s.bind(('',TCP_PORT))\n",
    "    s.listen(5)\n",
    "    print('Waiting for connection...')\n",
    "\n",
    "    def tcplink(sock,addr):\n",
    "        print('Accept new connection from %s:%s...' % addr)\n",
    "        sock.send( ('Welcome!').encode() )\n",
    "        while True:\n",
    "            data=sock.recv(1024).decode()\n",
    "            print(\"data: \", data)\n",
    "\n",
    "            data_json = json.loads( data )\n",
    "            print('data_json[\"type\"]: ', data_json[\"type\"])\n",
    "\n",
    "            if data_json[\"type\"] == \"init\":\n",
    "                data = { 'state_dim' : env.state_dim, 'action_dim' : env.action_dim, 'DoF' : env.DoF } \n",
    "\n",
    "            elif data_json[\"type\"] == \"reset\":\n",
    "                state = env.reset()\n",
    "                data = { 'state' : state.tolist() } \n",
    "\n",
    "            elif data_json[\"type\"] == \"step\":\n",
    "                a = np.array( data_json[\"action\"] )\n",
    "                state_next, r, done, info = env.step(a)\n",
    "                data = { 'state' : state_next.tolist(), 'reward' : r, 'done' : done, 'info' : info } \n",
    "            elif data_json[\"type\"] == \"close\":\n",
    "                break\n",
    "                \n",
    "            str_json = json.dumps(data)\n",
    "            sock.send( str_json.encode() )\n",
    "        sock.close()\n",
    "        print('Connection from %s:%s closed.'%addr)\n",
    "        \n",
    "    while True:\n",
    "        # Accept A New Connection\n",
    "        sock,addr=s.accept()\n",
    "        \n",
    "        # Create A New Thread to Deal with The TCP Connection\n",
    "        t=threading.Thread(target=tcplink(sock,addr))"
   ]
  },
  {
   "cell_type": "code",
   "execution_count": null,
   "metadata": {},
   "outputs": [
    {
     "name": "stdout",
     "output_type": "stream",
     "text": [
      "Waiting for connection...\n",
      "Accept new connection from 127.0.0.1:47396...\n",
      "data:  {\"type\": \"init\"}\n",
      "data_json[\"type\"]:  init\n",
      "data:  {\"type\": \"reset\"}\n",
      "data_json[\"type\"]:  reset\n",
      "data:  {\"type\": \"reset\"}\n",
      "data_json[\"type\"]:  reset\n",
      "data:  {\"action\": [0.1], \"type\": \"step\"}\n",
      "data_json[\"type\"]:  step\n",
      "data:  {\"action\": [0.1], \"type\": \"step\"}\n",
      "data_json[\"type\"]:  step\n",
      "data:  {\"action\": [0.1], \"type\": \"step\"}\n",
      "data_json[\"type\"]:  step\n"
     ]
    }
   ],
   "source": [
    "env_servicer( env )"
   ]
  },
  {
   "cell_type": "code",
   "execution_count": null,
   "metadata": {},
   "outputs": [],
   "source": []
  },
  {
   "cell_type": "code",
   "execution_count": null,
   "metadata": {},
   "outputs": [],
   "source": [
    "# json 转换示例01"
   ]
  },
  {
   "cell_type": "code",
   "execution_count": 22,
   "metadata": {},
   "outputs": [],
   "source": [
    "data = '{\"type\": \"init\"}'"
   ]
  },
  {
   "cell_type": "code",
   "execution_count": 23,
   "metadata": {},
   "outputs": [],
   "source": [
    "data_json = json.loads( data )"
   ]
  },
  {
   "cell_type": "code",
   "execution_count": 24,
   "metadata": {},
   "outputs": [
    {
     "data": {
      "text/plain": [
       "'init'"
      ]
     },
     "execution_count": 24,
     "metadata": {},
     "output_type": "execute_result"
    }
   ],
   "source": [
    "data_json[\"type\"]"
   ]
  },
  {
   "cell_type": "code",
   "execution_count": null,
   "metadata": {},
   "outputs": [],
   "source": []
  },
  {
   "cell_type": "code",
   "execution_count": null,
   "metadata": {},
   "outputs": [],
   "source": [
    "# json 转换示例02"
   ]
  },
  {
   "cell_type": "code",
   "execution_count": 10,
   "metadata": {},
   "outputs": [],
   "source": [
    "data = {'a':True, 'b':False, 'c':None, 'd':(1,2), 1:'abc'}\n",
    "# help(data): class dict(object)"
   ]
  },
  {
   "cell_type": "code",
   "execution_count": 14,
   "metadata": {},
   "outputs": [],
   "source": [
    "data_str = json.dumps( data )"
   ]
  },
  {
   "cell_type": "code",
   "execution_count": 17,
   "metadata": {},
   "outputs": [],
   "source": [
    "data_json = json.loads( data_str )"
   ]
  },
  {
   "cell_type": "code",
   "execution_count": 18,
   "metadata": {},
   "outputs": [
    {
     "data": {
      "text/plain": [
       "True"
      ]
     },
     "execution_count": 18,
     "metadata": {},
     "output_type": "execute_result"
    }
   ],
   "source": [
    "data_json[\"a\"]"
   ]
  },
  {
   "cell_type": "code",
   "execution_count": null,
   "metadata": {},
   "outputs": [],
   "source": []
  }
 ],
 "metadata": {
  "kernelspec": {
   "display_name": "Python 3",
   "language": "python",
   "name": "python3"
  },
  "language_info": {
   "codemirror_mode": {
    "name": "ipython",
    "version": 3
   },
   "file_extension": ".py",
   "mimetype": "text/x-python",
   "name": "python",
   "nbconvert_exporter": "python",
   "pygments_lexer": "ipython3",
   "version": "3.5.2"
  }
 },
 "nbformat": 4,
 "nbformat_minor": 2
}
