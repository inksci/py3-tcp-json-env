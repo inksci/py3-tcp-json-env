{
 "cells": [
  {
   "cell_type": "code",
   "execution_count": null,
   "metadata": {},
   "outputs": [],
   "source": [
    "# python 3"
   ]
  },
  {
   "cell_type": "code",
   "execution_count": 1,
   "metadata": {},
   "outputs": [],
   "source": [
    "import numpy as np\n",
    "import socket\n",
    "import json"
   ]
  },
  {
   "cell_type": "code",
   "execution_count": 2,
   "metadata": {},
   "outputs": [],
   "source": [
    "TCP_PORT = 12005"
   ]
  },
  {
   "cell_type": "code",
   "execution_count": 3,
   "metadata": {},
   "outputs": [],
   "source": [
    "# 充当客户端的角色\n",
    "# act as a client"
   ]
  },
  {
   "cell_type": "code",
   "execution_count": 4,
   "metadata": {},
   "outputs": [],
   "source": [
    "class tcp_env():\n",
    "    def __init__(self, tcp_port):\n",
    "        self.s=socket.socket(socket.AF_INET,socket.SOCK_STREAM)\n",
    "\n",
    "        self.s.connect(('127.0.0.1',tcp_port))\n",
    "\n",
    "        print( self.s.recv(1024).decode())\n",
    "\n",
    "        data = { 'type' : 'init' } \n",
    "\n",
    "        str_json = json.dumps(data)\n",
    "        self.s.send( str_json.encode() )\n",
    "        str_recv = self.s.recv(1024).decode()\n",
    "        \n",
    "        data_json = json.loads( str_recv )\n",
    "        \n",
    "        self.state_dim = data_json[\"state_dim\"]\n",
    "        self.action_dim = data_json[\"action_dim\"]\n",
    "        self.DoF = data_json[\"DoF\"]\n",
    "\n",
    "        # s.send('exit')\n",
    "        # s.close()        \n",
    "        \n",
    "    def  reset(self):\n",
    "        data = { 'type' : 'reset' } \n",
    "\n",
    "        str_json = json.dumps(data)\n",
    "        self.s.send( str_json.encode() )\n",
    "        str_recv = self.s.recv(1024).decode()\n",
    "        \n",
    "        data_json = json.loads( str_recv )\n",
    "        \n",
    "        state = np.array( data_json[\"state\"] )\n",
    "        return state\n",
    "    def step(self, action):\n",
    "        \n",
    "        data = { 'type' : 'step', 'action' : action.tolist() } \n",
    "\n",
    "        str_json = json.dumps(data)\n",
    "        self.s.send( str_json.encode() )\n",
    "        str_recv = self.s.recv(1024).decode()\n",
    "        \n",
    "        data_json = json.loads( str_recv )\n",
    "        \n",
    "        state = np.array( data_json[\"state\"] )\n",
    "        r = data_json[\"reward\"]\n",
    "        d = data_json[\"done\"]\n",
    "        info = data_json[\"info\"]\n",
    "        \n",
    "        return state, r, d, info\n",
    "    def close_tcp(self):\n",
    "        print(\" close tcp ... \")\n",
    "        data = { 'type' : 'close' } \n",
    "\n",
    "        str_json = json.dumps(data)\n",
    "        self.s.send( str_json.encode() )\n",
    "        self.s.close()        \n"
   ]
  },
  {
   "cell_type": "code",
   "execution_count": 5,
   "metadata": {},
   "outputs": [
    {
     "name": "stdout",
     "output_type": "stream",
     "text": [
      "Welcome!\n"
     ]
    }
   ],
   "source": [
    "env = tcp_env( tcp_port = TCP_PORT )"
   ]
  },
  {
   "cell_type": "code",
   "execution_count": null,
   "metadata": {},
   "outputs": [],
   "source": [
    "# 测试\n",
    "# test"
   ]
  },
  {
   "cell_type": "code",
   "execution_count": 7,
   "metadata": {},
   "outputs": [
    {
     "data": {
      "text/plain": [
       "array([ 0.99089796,  0.13461511, -0.72839888])"
      ]
     },
     "execution_count": 7,
     "metadata": {},
     "output_type": "execute_result"
    }
   ],
   "source": [
    "env.reset()"
   ]
  },
  {
   "cell_type": "code",
   "execution_count": 11,
   "metadata": {},
   "outputs": [
    {
     "data": {
      "text/plain": [
       "(array([ 0.99842322,  0.05613435, -0.44550819]),\n",
       " -0.033127618040892495,\n",
       " False,\n",
       " {})"
      ]
     },
     "execution_count": 11,
     "metadata": {},
     "output_type": "execute_result"
    }
   ],
   "source": [
    "env.step( np.array( [0.1] ) )"
   ]
  },
  {
   "cell_type": "code",
   "execution_count": null,
   "metadata": {},
   "outputs": [],
   "source": []
  }
 ],
 "metadata": {
  "kernelspec": {
   "display_name": "Python 3",
   "language": "python",
   "name": "python3"
  },
  "language_info": {
   "codemirror_mode": {
    "name": "ipython",
    "version": 3
   },
   "file_extension": ".py",
   "mimetype": "text/x-python",
   "name": "python",
   "nbconvert_exporter": "python",
   "pygments_lexer": "ipython3",
   "version": "3.5.2"
  }
 },
 "nbformat": 4,
 "nbformat_minor": 2
}
